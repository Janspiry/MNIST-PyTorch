{
 "cells": [
  {
   "cell_type": "code",
   "execution_count": 3,
   "metadata": {},
   "outputs": [],
   "source": [
    "#引入库\n",
    "import pandas as pd\n",
    "import torch\n",
    "from torch import nn, optim\n",
    "from torchvision.datasets import mnist\n",
    "from torchvision.transforms import ToTensor\n",
    "import time"
   ]
  },
  {
   "cell_type": "code",
   "execution_count": 4,
   "metadata": {},
   "outputs": [],
   "source": [
    "#建立lenet模型\n",
    "class LeNet(nn.Module):\n",
    "    def __init__(self):\n",
    "        super(LeNet, self).__init__()\n",
    "        self.conv = nn.Sequential(\n",
    "            nn.Conv2d(1, 6, 5), #输入通道， 输出通道，大小\n",
    "            nn.ReLU(),\n",
    "            nn.MaxPool2d(2, 2),\n",
    "            nn.Conv2d(6, 16, 5), #输入通道， 输出通道，大小\n",
    "            nn.ReLU(),\n",
    "            nn.MaxPool2d(2, 2),\n",
    "        )\n",
    "        self.fc = nn.Sequential(\n",
    "            nn.Linear(16*4*4, 120),\n",
    "            nn.ReLU(),\n",
    "            nn.Linear(120, 84),\n",
    "            nn.ReLU(),\n",
    "            nn.Linear(84, 10),\n",
    "        )\n",
    "    def forward(self, train_x):\n",
    "        y = self.conv(train_x)\n",
    "        y = self.fc(y.view(y.shape[0],-1))\n",
    "        return y"
   ]
  },
  {
   "cell_type": "code",
   "execution_count": 5,
   "metadata": {},
   "outputs": [
    {
     "output_type": "stream",
     "name": "stdout",
     "text": [
      "epoch 1, loss 0.0118, train acc 1.000, test acc 1.000, time 29.7 sec\n",
      "epoch 2, loss 0.0043, train acc 1.000, test acc 1.000, time 28.7 sec\n",
      "epoch 3, loss 0.2816, train acc 0.969, test acc 0.938, time 27.3 sec\n"
     ]
    }
   ],
   "source": [
    "#训练函数\n",
    "def train(net, num_epochs, learning_rate, batch_size):\n",
    "    \n",
    "    optimizer = optim.Adam(params=net.parameters(), lr=learning_rate)\n",
    "    \n",
    "    train_dataset = mnist.MNIST(root='./mnist/train', train=True, transform=ToTensor())\n",
    "    test_dataset = mnist.MNIST(root='./mnist/test', train=False, transform=ToTensor())\n",
    "    train_iter = torch.utils.data.DataLoader(train_dataset, batch_size)\n",
    "    test_iter = torch.utils.data.DataLoader(test_dataset, batch_size)\n",
    "    \n",
    "    for epoch in range(num_epochs):\n",
    "        start = time.time()\n",
    "        train_acc, train_loss, test_acc = 0.0, 0.0, 0.0\n",
    "        for x, y in train_iter:\n",
    "            y_hat = net(x)\n",
    "            l = loss(y_hat, y).mean()\n",
    "            optimizer.zero_grad()\n",
    "            l.backward()\n",
    "            optimizer.step()\n",
    "            \n",
    "            train_loss = l.item()\n",
    "            train_acc = (y_hat.argmax(dim=1) == y).float().mean().item()\n",
    "        \n",
    "        for x, y in test_iter:\n",
    "            test_acc = (net(x).argmax(dim=1) == y).float().mean().item()\n",
    "            \n",
    "        print('epoch %d, loss %.4f, train acc %.3f, test acc %.3f, time %.1f sec'\n",
    "              % (epoch + 1, train_loss, train_acc, test_acc, time.time() - start))\n",
    "#训练与测试\n",
    "net = LeNet()\n",
    "loss = nn.CrossEntropyLoss()\n",
    "batch_size = 64\n",
    "num_epochs = 3\n",
    "learning_rate = 1e-2\n",
    "weight_decay = 0\n",
    "\n",
    "train(net, num_epochs, learning_rate, batch_size)"
   ]
  },
  {
   "cell_type": "code",
   "execution_count": 6,
   "metadata": {},
   "outputs": [],
   "source": [
    "#模型效果展示\n"
   ]
  }
 ],
 "metadata": {
  "kernelspec": {
   "display_name": "Python 3",
   "language": "python",
   "name": "python3"
  },
  "language_info": {
   "codemirror_mode": {
    "name": "ipython",
    "version": 3
   },
   "file_extension": ".py",
   "mimetype": "text/x-python",
   "name": "python",
   "nbconvert_exporter": "python",
   "pygments_lexer": "ipython3",
   "version": "3.7.0-final"
  }
 },
 "nbformat": 4,
 "nbformat_minor": 2
}